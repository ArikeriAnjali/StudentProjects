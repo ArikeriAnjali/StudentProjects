{
 "cells": [
  {
   "cell_type": "code",
   "execution_count": 30,
   "id": "e622aa14-3169-4ab0-923e-a0e561cfa8a6",
   "metadata": {},
   "outputs": [
    {
     "name": "stdout",
     "output_type": "stream",
     "text": [
      "Mean: 6.833333333333333\n",
      "Median: 7.0\n",
      "Mode: 7 Frequency: 2\n"
     ]
    }
   ],
   "source": [
    "\n",
    "import numpy as np\n",
    "from scipy import stats\n",
    "\n",
    "data = [5, 7, 8, 4, 10, 7]\n",
    "\n",
    "\n",
    "mean = np.mean(data)\n",
    "print(\"Mean:\", mean)\n",
    "\n",
    "median = np.median(data)\n",
    "print(\"Median:\", median)\n",
    "\n",
    "mode = stats.mode(data)\n",
    "print(\"Mode:\", mode.mode, \"Frequency:\", mode.count)\n"
   ]
  },
  {
   "cell_type": "code",
   "execution_count": 37,
   "id": "d3aabfbe-ad7c-4451-902b-8abad59a72fd",
   "metadata": {},
   "outputs": [
    {
     "name": "stdout",
     "output_type": "stream",
     "text": [
      "Variance (relative to mode): 3.8333333333333335\n",
      "Standard Deviation (relative to mode): 1.9578900207451218\n"
     ]
    }
   ],
   "source": [
    "data = [5, 7, 8, 4, 10, 7]\n",
    "\n",
    "import numpy as np\n",
    "from scipy import stats\n",
    "\n",
    "# Step 1: Find the Mode\n",
    "mode_result = stats.mode(data)\n",
    "mode = mode_result.mode\n",
    "\n",
    "# Step 2: Calculate Variance relative to Mode\n",
    "variance = np.mean([(x - mode)**2 for x in data])\n",
    "print(\"Variance (relative to mode):\", variance)\n",
    "\n",
    "# Step 3: Calculate Standard Deviation relative to Mode\n",
    "std_deviation = np.sqrt(variance)\n",
    "print (\"Standard Deviation (relative to mode):\", std_deviation)\n"
   ]
  }
 ],
 "metadata": {
  "kernelspec": {
   "display_name": "Python 3 (ipykernel)",
   "language": "python",
   "name": "python3"
  },
  "language_info": {
   "codemirror_mode": {
    "name": "ipython",
    "version": 3
   },
   "file_extension": ".py",
   "mimetype": "text/x-python",
   "name": "python",
   "nbconvert_exporter": "python",
   "pygments_lexer": "ipython3",
   "version": "3.12.4"
  }
 },
 "nbformat": 4,
 "nbformat_minor": 5
}
